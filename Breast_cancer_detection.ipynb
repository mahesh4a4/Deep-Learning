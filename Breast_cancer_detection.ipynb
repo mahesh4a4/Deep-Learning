{
  "nbformat": 4,
  "nbformat_minor": 0,
  "metadata": {
    "colab": {
      "name": "Breast_cancer_detection.ipynb",
      "provenance": []
    },
    "kernelspec": {
      "name": "python3",
      "display_name": "Python 3"
    },
    "accelerator": "GPU"
  },
  "cells": [
    {
      "cell_type": "code",
      "metadata": {
        "id": "arQW9AWcRzzs",
        "colab_type": "code",
        "colab": {}
      },
      "source": [
        "import numpy as np"
      ],
      "execution_count": 58,
      "outputs": []
    },
    {
      "cell_type": "code",
      "metadata": {
        "id": "LR39o3gdSQd7",
        "colab_type": "code",
        "colab": {}
      },
      "source": [
        "import pandas as pd\n"
      ],
      "execution_count": 59,
      "outputs": []
    },
    {
      "cell_type": "code",
      "metadata": {
        "id": "lxz5y1pQSS3R",
        "colab_type": "code",
        "colab": {}
      },
      "source": [
        "df=pd.read_csv('data.csv')"
      ],
      "execution_count": 60,
      "outputs": []
    },
    {
      "cell_type": "code",
      "metadata": {
        "id": "_TVNCPWISi57",
        "colab_type": "code",
        "colab": {
          "base_uri": "https://localhost:8080/",
          "height": 241
        },
        "outputId": "c7690922-ea89-4df6-cef9-0a3a92503849"
      },
      "source": [
        "df.head()"
      ],
      "execution_count": 61,
      "outputs": [
        {
          "output_type": "execute_result",
          "data": {
            "text/html": [
              "<div>\n",
              "<style scoped>\n",
              "    .dataframe tbody tr th:only-of-type {\n",
              "        vertical-align: middle;\n",
              "    }\n",
              "\n",
              "    .dataframe tbody tr th {\n",
              "        vertical-align: top;\n",
              "    }\n",
              "\n",
              "    .dataframe thead th {\n",
              "        text-align: right;\n",
              "    }\n",
              "</style>\n",
              "<table border=\"1\" class=\"dataframe\">\n",
              "  <thead>\n",
              "    <tr style=\"text-align: right;\">\n",
              "      <th></th>\n",
              "      <th>id</th>\n",
              "      <th>diagnosis</th>\n",
              "      <th>radius_mean</th>\n",
              "      <th>texture_mean</th>\n",
              "      <th>perimeter_mean</th>\n",
              "      <th>area_mean</th>\n",
              "      <th>smoothness_mean</th>\n",
              "      <th>compactness_mean</th>\n",
              "      <th>concavity_mean</th>\n",
              "      <th>concave points_mean</th>\n",
              "      <th>symmetry_mean</th>\n",
              "      <th>fractal_dimension_mean</th>\n",
              "      <th>radius_se</th>\n",
              "      <th>texture_se</th>\n",
              "      <th>perimeter_se</th>\n",
              "      <th>area_se</th>\n",
              "      <th>smoothness_se</th>\n",
              "      <th>compactness_se</th>\n",
              "      <th>concavity_se</th>\n",
              "      <th>concave points_se</th>\n",
              "      <th>symmetry_se</th>\n",
              "      <th>fractal_dimension_se</th>\n",
              "      <th>radius_worst</th>\n",
              "      <th>texture_worst</th>\n",
              "      <th>perimeter_worst</th>\n",
              "      <th>area_worst</th>\n",
              "      <th>smoothness_worst</th>\n",
              "      <th>compactness_worst</th>\n",
              "      <th>concavity_worst</th>\n",
              "      <th>concave points_worst</th>\n",
              "      <th>symmetry_worst</th>\n",
              "      <th>fractal_dimension_worst</th>\n",
              "      <th>Unnamed: 32</th>\n",
              "    </tr>\n",
              "  </thead>\n",
              "  <tbody>\n",
              "    <tr>\n",
              "      <th>0</th>\n",
              "      <td>842302</td>\n",
              "      <td>M</td>\n",
              "      <td>17.99</td>\n",
              "      <td>10.38</td>\n",
              "      <td>122.80</td>\n",
              "      <td>1001.0</td>\n",
              "      <td>0.11840</td>\n",
              "      <td>0.27760</td>\n",
              "      <td>0.3001</td>\n",
              "      <td>0.14710</td>\n",
              "      <td>0.2419</td>\n",
              "      <td>0.07871</td>\n",
              "      <td>1.0950</td>\n",
              "      <td>0.9053</td>\n",
              "      <td>8.589</td>\n",
              "      <td>153.40</td>\n",
              "      <td>0.006399</td>\n",
              "      <td>0.04904</td>\n",
              "      <td>0.05373</td>\n",
              "      <td>0.01587</td>\n",
              "      <td>0.03003</td>\n",
              "      <td>0.006193</td>\n",
              "      <td>25.38</td>\n",
              "      <td>17.33</td>\n",
              "      <td>184.60</td>\n",
              "      <td>2019.0</td>\n",
              "      <td>0.1622</td>\n",
              "      <td>0.6656</td>\n",
              "      <td>0.7119</td>\n",
              "      <td>0.2654</td>\n",
              "      <td>0.4601</td>\n",
              "      <td>0.11890</td>\n",
              "      <td>NaN</td>\n",
              "    </tr>\n",
              "    <tr>\n",
              "      <th>1</th>\n",
              "      <td>842517</td>\n",
              "      <td>M</td>\n",
              "      <td>20.57</td>\n",
              "      <td>17.77</td>\n",
              "      <td>132.90</td>\n",
              "      <td>1326.0</td>\n",
              "      <td>0.08474</td>\n",
              "      <td>0.07864</td>\n",
              "      <td>0.0869</td>\n",
              "      <td>0.07017</td>\n",
              "      <td>0.1812</td>\n",
              "      <td>0.05667</td>\n",
              "      <td>0.5435</td>\n",
              "      <td>0.7339</td>\n",
              "      <td>3.398</td>\n",
              "      <td>74.08</td>\n",
              "      <td>0.005225</td>\n",
              "      <td>0.01308</td>\n",
              "      <td>0.01860</td>\n",
              "      <td>0.01340</td>\n",
              "      <td>0.01389</td>\n",
              "      <td>0.003532</td>\n",
              "      <td>24.99</td>\n",
              "      <td>23.41</td>\n",
              "      <td>158.80</td>\n",
              "      <td>1956.0</td>\n",
              "      <td>0.1238</td>\n",
              "      <td>0.1866</td>\n",
              "      <td>0.2416</td>\n",
              "      <td>0.1860</td>\n",
              "      <td>0.2750</td>\n",
              "      <td>0.08902</td>\n",
              "      <td>NaN</td>\n",
              "    </tr>\n",
              "    <tr>\n",
              "      <th>2</th>\n",
              "      <td>84300903</td>\n",
              "      <td>M</td>\n",
              "      <td>19.69</td>\n",
              "      <td>21.25</td>\n",
              "      <td>130.00</td>\n",
              "      <td>1203.0</td>\n",
              "      <td>0.10960</td>\n",
              "      <td>0.15990</td>\n",
              "      <td>0.1974</td>\n",
              "      <td>0.12790</td>\n",
              "      <td>0.2069</td>\n",
              "      <td>0.05999</td>\n",
              "      <td>0.7456</td>\n",
              "      <td>0.7869</td>\n",
              "      <td>4.585</td>\n",
              "      <td>94.03</td>\n",
              "      <td>0.006150</td>\n",
              "      <td>0.04006</td>\n",
              "      <td>0.03832</td>\n",
              "      <td>0.02058</td>\n",
              "      <td>0.02250</td>\n",
              "      <td>0.004571</td>\n",
              "      <td>23.57</td>\n",
              "      <td>25.53</td>\n",
              "      <td>152.50</td>\n",
              "      <td>1709.0</td>\n",
              "      <td>0.1444</td>\n",
              "      <td>0.4245</td>\n",
              "      <td>0.4504</td>\n",
              "      <td>0.2430</td>\n",
              "      <td>0.3613</td>\n",
              "      <td>0.08758</td>\n",
              "      <td>NaN</td>\n",
              "    </tr>\n",
              "    <tr>\n",
              "      <th>3</th>\n",
              "      <td>84348301</td>\n",
              "      <td>M</td>\n",
              "      <td>11.42</td>\n",
              "      <td>20.38</td>\n",
              "      <td>77.58</td>\n",
              "      <td>386.1</td>\n",
              "      <td>0.14250</td>\n",
              "      <td>0.28390</td>\n",
              "      <td>0.2414</td>\n",
              "      <td>0.10520</td>\n",
              "      <td>0.2597</td>\n",
              "      <td>0.09744</td>\n",
              "      <td>0.4956</td>\n",
              "      <td>1.1560</td>\n",
              "      <td>3.445</td>\n",
              "      <td>27.23</td>\n",
              "      <td>0.009110</td>\n",
              "      <td>0.07458</td>\n",
              "      <td>0.05661</td>\n",
              "      <td>0.01867</td>\n",
              "      <td>0.05963</td>\n",
              "      <td>0.009208</td>\n",
              "      <td>14.91</td>\n",
              "      <td>26.50</td>\n",
              "      <td>98.87</td>\n",
              "      <td>567.7</td>\n",
              "      <td>0.2098</td>\n",
              "      <td>0.8663</td>\n",
              "      <td>0.6869</td>\n",
              "      <td>0.2575</td>\n",
              "      <td>0.6638</td>\n",
              "      <td>0.17300</td>\n",
              "      <td>NaN</td>\n",
              "    </tr>\n",
              "    <tr>\n",
              "      <th>4</th>\n",
              "      <td>84358402</td>\n",
              "      <td>M</td>\n",
              "      <td>20.29</td>\n",
              "      <td>14.34</td>\n",
              "      <td>135.10</td>\n",
              "      <td>1297.0</td>\n",
              "      <td>0.10030</td>\n",
              "      <td>0.13280</td>\n",
              "      <td>0.1980</td>\n",
              "      <td>0.10430</td>\n",
              "      <td>0.1809</td>\n",
              "      <td>0.05883</td>\n",
              "      <td>0.7572</td>\n",
              "      <td>0.7813</td>\n",
              "      <td>5.438</td>\n",
              "      <td>94.44</td>\n",
              "      <td>0.011490</td>\n",
              "      <td>0.02461</td>\n",
              "      <td>0.05688</td>\n",
              "      <td>0.01885</td>\n",
              "      <td>0.01756</td>\n",
              "      <td>0.005115</td>\n",
              "      <td>22.54</td>\n",
              "      <td>16.67</td>\n",
              "      <td>152.20</td>\n",
              "      <td>1575.0</td>\n",
              "      <td>0.1374</td>\n",
              "      <td>0.2050</td>\n",
              "      <td>0.4000</td>\n",
              "      <td>0.1625</td>\n",
              "      <td>0.2364</td>\n",
              "      <td>0.07678</td>\n",
              "      <td>NaN</td>\n",
              "    </tr>\n",
              "  </tbody>\n",
              "</table>\n",
              "</div>"
            ],
            "text/plain": [
              "         id diagnosis  ...  fractal_dimension_worst  Unnamed: 32\n",
              "0    842302         M  ...                  0.11890          NaN\n",
              "1    842517         M  ...                  0.08902          NaN\n",
              "2  84300903         M  ...                  0.08758          NaN\n",
              "3  84348301         M  ...                  0.17300          NaN\n",
              "4  84358402         M  ...                  0.07678          NaN\n",
              "\n",
              "[5 rows x 33 columns]"
            ]
          },
          "metadata": {
            "tags": []
          },
          "execution_count": 61
        }
      ]
    },
    {
      "cell_type": "code",
      "metadata": {
        "id": "UmiW2gBSSkse",
        "colab_type": "code",
        "colab": {
          "base_uri": "https://localhost:8080/",
          "height": 187
        },
        "outputId": "72817eed-5f62-4156-bb86-2e1138d1d3ab"
      },
      "source": [
        "df.columns"
      ],
      "execution_count": 62,
      "outputs": [
        {
          "output_type": "execute_result",
          "data": {
            "text/plain": [
              "Index(['id', 'diagnosis', 'radius_mean', 'texture_mean', 'perimeter_mean',\n",
              "       'area_mean', 'smoothness_mean', 'compactness_mean', 'concavity_mean',\n",
              "       'concave points_mean', 'symmetry_mean', 'fractal_dimension_mean',\n",
              "       'radius_se', 'texture_se', 'perimeter_se', 'area_se', 'smoothness_se',\n",
              "       'compactness_se', 'concavity_se', 'concave points_se', 'symmetry_se',\n",
              "       'fractal_dimension_se', 'radius_worst', 'texture_worst',\n",
              "       'perimeter_worst', 'area_worst', 'smoothness_worst',\n",
              "       'compactness_worst', 'concavity_worst', 'concave points_worst',\n",
              "       'symmetry_worst', 'fractal_dimension_worst', 'Unnamed: 32'],\n",
              "      dtype='object')"
            ]
          },
          "metadata": {
            "tags": []
          },
          "execution_count": 62
        }
      ]
    },
    {
      "cell_type": "code",
      "metadata": {
        "id": "hyE6J-pUSndU",
        "colab_type": "code",
        "colab": {}
      },
      "source": [
        "\n",
        "df.drop(columns=['Unnamed: 32'],inplace=True)\n",
        "df.drop(columns=['id'],inplace=True)"
      ],
      "execution_count": 63,
      "outputs": []
    },
    {
      "cell_type": "code",
      "metadata": {
        "id": "MkjzBCoNS8a6",
        "colab_type": "code",
        "colab": {
          "base_uri": "https://localhost:8080/",
          "height": 187
        },
        "outputId": "1049c987-9098-4662-9263-90352b67596c"
      },
      "source": [
        "data.columns"
      ],
      "execution_count": 64,
      "outputs": [
        {
          "output_type": "execute_result",
          "data": {
            "text/plain": [
              "Index(['diagnosis', 'radius_mean', 'texture_mean', 'perimeter_mean',\n",
              "       'area_mean', 'smoothness_mean', 'compactness_mean', 'concavity_mean',\n",
              "       'concave points_mean', 'symmetry_mean', 'fractal_dimension_mean',\n",
              "       'radius_se', 'texture_se', 'perimeter_se', 'area_se', 'smoothness_se',\n",
              "       'compactness_se', 'concavity_se', 'concave points_se', 'symmetry_se',\n",
              "       'fractal_dimension_se', 'radius_worst', 'texture_worst',\n",
              "       'perimeter_worst', 'area_worst', 'smoothness_worst',\n",
              "       'compactness_worst', 'concavity_worst', 'concave points_worst',\n",
              "       'symmetry_worst', 'fractal_dimension_worst'],\n",
              "      dtype='object')"
            ]
          },
          "metadata": {
            "tags": []
          },
          "execution_count": 64
        }
      ]
    },
    {
      "cell_type": "code",
      "metadata": {
        "id": "SGLtBTi4TeWT",
        "colab_type": "code",
        "colab": {}
      },
      "source": [
        "\n",
        "df[\"diagnosis\"].replace({\"M\": 0, \"B\": 1}, inplace=True)"
      ],
      "execution_count": 65,
      "outputs": []
    },
    {
      "cell_type": "code",
      "metadata": {
        "id": "VA8SCmFBTqGb",
        "colab_type": "code",
        "colab": {
          "base_uri": "https://localhost:8080/",
          "height": 241
        },
        "outputId": "a4b0d137-da53-4309-bc1b-28dfd86be7cf"
      },
      "source": [
        "df.head()"
      ],
      "execution_count": 66,
      "outputs": [
        {
          "output_type": "execute_result",
          "data": {
            "text/html": [
              "<div>\n",
              "<style scoped>\n",
              "    .dataframe tbody tr th:only-of-type {\n",
              "        vertical-align: middle;\n",
              "    }\n",
              "\n",
              "    .dataframe tbody tr th {\n",
              "        vertical-align: top;\n",
              "    }\n",
              "\n",
              "    .dataframe thead th {\n",
              "        text-align: right;\n",
              "    }\n",
              "</style>\n",
              "<table border=\"1\" class=\"dataframe\">\n",
              "  <thead>\n",
              "    <tr style=\"text-align: right;\">\n",
              "      <th></th>\n",
              "      <th>diagnosis</th>\n",
              "      <th>radius_mean</th>\n",
              "      <th>texture_mean</th>\n",
              "      <th>perimeter_mean</th>\n",
              "      <th>area_mean</th>\n",
              "      <th>smoothness_mean</th>\n",
              "      <th>compactness_mean</th>\n",
              "      <th>concavity_mean</th>\n",
              "      <th>concave points_mean</th>\n",
              "      <th>symmetry_mean</th>\n",
              "      <th>fractal_dimension_mean</th>\n",
              "      <th>radius_se</th>\n",
              "      <th>texture_se</th>\n",
              "      <th>perimeter_se</th>\n",
              "      <th>area_se</th>\n",
              "      <th>smoothness_se</th>\n",
              "      <th>compactness_se</th>\n",
              "      <th>concavity_se</th>\n",
              "      <th>concave points_se</th>\n",
              "      <th>symmetry_se</th>\n",
              "      <th>fractal_dimension_se</th>\n",
              "      <th>radius_worst</th>\n",
              "      <th>texture_worst</th>\n",
              "      <th>perimeter_worst</th>\n",
              "      <th>area_worst</th>\n",
              "      <th>smoothness_worst</th>\n",
              "      <th>compactness_worst</th>\n",
              "      <th>concavity_worst</th>\n",
              "      <th>concave points_worst</th>\n",
              "      <th>symmetry_worst</th>\n",
              "      <th>fractal_dimension_worst</th>\n",
              "    </tr>\n",
              "  </thead>\n",
              "  <tbody>\n",
              "    <tr>\n",
              "      <th>0</th>\n",
              "      <td>0</td>\n",
              "      <td>17.99</td>\n",
              "      <td>10.38</td>\n",
              "      <td>122.80</td>\n",
              "      <td>1001.0</td>\n",
              "      <td>0.11840</td>\n",
              "      <td>0.27760</td>\n",
              "      <td>0.3001</td>\n",
              "      <td>0.14710</td>\n",
              "      <td>0.2419</td>\n",
              "      <td>0.07871</td>\n",
              "      <td>1.0950</td>\n",
              "      <td>0.9053</td>\n",
              "      <td>8.589</td>\n",
              "      <td>153.40</td>\n",
              "      <td>0.006399</td>\n",
              "      <td>0.04904</td>\n",
              "      <td>0.05373</td>\n",
              "      <td>0.01587</td>\n",
              "      <td>0.03003</td>\n",
              "      <td>0.006193</td>\n",
              "      <td>25.38</td>\n",
              "      <td>17.33</td>\n",
              "      <td>184.60</td>\n",
              "      <td>2019.0</td>\n",
              "      <td>0.1622</td>\n",
              "      <td>0.6656</td>\n",
              "      <td>0.7119</td>\n",
              "      <td>0.2654</td>\n",
              "      <td>0.4601</td>\n",
              "      <td>0.11890</td>\n",
              "    </tr>\n",
              "    <tr>\n",
              "      <th>1</th>\n",
              "      <td>0</td>\n",
              "      <td>20.57</td>\n",
              "      <td>17.77</td>\n",
              "      <td>132.90</td>\n",
              "      <td>1326.0</td>\n",
              "      <td>0.08474</td>\n",
              "      <td>0.07864</td>\n",
              "      <td>0.0869</td>\n",
              "      <td>0.07017</td>\n",
              "      <td>0.1812</td>\n",
              "      <td>0.05667</td>\n",
              "      <td>0.5435</td>\n",
              "      <td>0.7339</td>\n",
              "      <td>3.398</td>\n",
              "      <td>74.08</td>\n",
              "      <td>0.005225</td>\n",
              "      <td>0.01308</td>\n",
              "      <td>0.01860</td>\n",
              "      <td>0.01340</td>\n",
              "      <td>0.01389</td>\n",
              "      <td>0.003532</td>\n",
              "      <td>24.99</td>\n",
              "      <td>23.41</td>\n",
              "      <td>158.80</td>\n",
              "      <td>1956.0</td>\n",
              "      <td>0.1238</td>\n",
              "      <td>0.1866</td>\n",
              "      <td>0.2416</td>\n",
              "      <td>0.1860</td>\n",
              "      <td>0.2750</td>\n",
              "      <td>0.08902</td>\n",
              "    </tr>\n",
              "    <tr>\n",
              "      <th>2</th>\n",
              "      <td>0</td>\n",
              "      <td>19.69</td>\n",
              "      <td>21.25</td>\n",
              "      <td>130.00</td>\n",
              "      <td>1203.0</td>\n",
              "      <td>0.10960</td>\n",
              "      <td>0.15990</td>\n",
              "      <td>0.1974</td>\n",
              "      <td>0.12790</td>\n",
              "      <td>0.2069</td>\n",
              "      <td>0.05999</td>\n",
              "      <td>0.7456</td>\n",
              "      <td>0.7869</td>\n",
              "      <td>4.585</td>\n",
              "      <td>94.03</td>\n",
              "      <td>0.006150</td>\n",
              "      <td>0.04006</td>\n",
              "      <td>0.03832</td>\n",
              "      <td>0.02058</td>\n",
              "      <td>0.02250</td>\n",
              "      <td>0.004571</td>\n",
              "      <td>23.57</td>\n",
              "      <td>25.53</td>\n",
              "      <td>152.50</td>\n",
              "      <td>1709.0</td>\n",
              "      <td>0.1444</td>\n",
              "      <td>0.4245</td>\n",
              "      <td>0.4504</td>\n",
              "      <td>0.2430</td>\n",
              "      <td>0.3613</td>\n",
              "      <td>0.08758</td>\n",
              "    </tr>\n",
              "    <tr>\n",
              "      <th>3</th>\n",
              "      <td>0</td>\n",
              "      <td>11.42</td>\n",
              "      <td>20.38</td>\n",
              "      <td>77.58</td>\n",
              "      <td>386.1</td>\n",
              "      <td>0.14250</td>\n",
              "      <td>0.28390</td>\n",
              "      <td>0.2414</td>\n",
              "      <td>0.10520</td>\n",
              "      <td>0.2597</td>\n",
              "      <td>0.09744</td>\n",
              "      <td>0.4956</td>\n",
              "      <td>1.1560</td>\n",
              "      <td>3.445</td>\n",
              "      <td>27.23</td>\n",
              "      <td>0.009110</td>\n",
              "      <td>0.07458</td>\n",
              "      <td>0.05661</td>\n",
              "      <td>0.01867</td>\n",
              "      <td>0.05963</td>\n",
              "      <td>0.009208</td>\n",
              "      <td>14.91</td>\n",
              "      <td>26.50</td>\n",
              "      <td>98.87</td>\n",
              "      <td>567.7</td>\n",
              "      <td>0.2098</td>\n",
              "      <td>0.8663</td>\n",
              "      <td>0.6869</td>\n",
              "      <td>0.2575</td>\n",
              "      <td>0.6638</td>\n",
              "      <td>0.17300</td>\n",
              "    </tr>\n",
              "    <tr>\n",
              "      <th>4</th>\n",
              "      <td>0</td>\n",
              "      <td>20.29</td>\n",
              "      <td>14.34</td>\n",
              "      <td>135.10</td>\n",
              "      <td>1297.0</td>\n",
              "      <td>0.10030</td>\n",
              "      <td>0.13280</td>\n",
              "      <td>0.1980</td>\n",
              "      <td>0.10430</td>\n",
              "      <td>0.1809</td>\n",
              "      <td>0.05883</td>\n",
              "      <td>0.7572</td>\n",
              "      <td>0.7813</td>\n",
              "      <td>5.438</td>\n",
              "      <td>94.44</td>\n",
              "      <td>0.011490</td>\n",
              "      <td>0.02461</td>\n",
              "      <td>0.05688</td>\n",
              "      <td>0.01885</td>\n",
              "      <td>0.01756</td>\n",
              "      <td>0.005115</td>\n",
              "      <td>22.54</td>\n",
              "      <td>16.67</td>\n",
              "      <td>152.20</td>\n",
              "      <td>1575.0</td>\n",
              "      <td>0.1374</td>\n",
              "      <td>0.2050</td>\n",
              "      <td>0.4000</td>\n",
              "      <td>0.1625</td>\n",
              "      <td>0.2364</td>\n",
              "      <td>0.07678</td>\n",
              "    </tr>\n",
              "  </tbody>\n",
              "</table>\n",
              "</div>"
            ],
            "text/plain": [
              "   diagnosis  radius_mean  ...  symmetry_worst  fractal_dimension_worst\n",
              "0          0        17.99  ...          0.4601                  0.11890\n",
              "1          0        20.57  ...          0.2750                  0.08902\n",
              "2          0        19.69  ...          0.3613                  0.08758\n",
              "3          0        11.42  ...          0.6638                  0.17300\n",
              "4          0        20.29  ...          0.2364                  0.07678\n",
              "\n",
              "[5 rows x 31 columns]"
            ]
          },
          "metadata": {
            "tags": []
          },
          "execution_count": 66
        }
      ]
    },
    {
      "cell_type": "code",
      "metadata": {
        "id": "GH9ChqMOU-k6",
        "colab_type": "code",
        "colab": {
          "base_uri": "https://localhost:8080/",
          "height": 187
        },
        "outputId": "02b2f404-e57a-4948-ba36-bda0f0f26bd7"
      },
      "source": [
        "from sklearn.model_selection import train_test_split\n",
        "df.columns"
      ],
      "execution_count": 67,
      "outputs": [
        {
          "output_type": "execute_result",
          "data": {
            "text/plain": [
              "Index(['diagnosis', 'radius_mean', 'texture_mean', 'perimeter_mean',\n",
              "       'area_mean', 'smoothness_mean', 'compactness_mean', 'concavity_mean',\n",
              "       'concave points_mean', 'symmetry_mean', 'fractal_dimension_mean',\n",
              "       'radius_se', 'texture_se', 'perimeter_se', 'area_se', 'smoothness_se',\n",
              "       'compactness_se', 'concavity_se', 'concave points_se', 'symmetry_se',\n",
              "       'fractal_dimension_se', 'radius_worst', 'texture_worst',\n",
              "       'perimeter_worst', 'area_worst', 'smoothness_worst',\n",
              "       'compactness_worst', 'concavity_worst', 'concave points_worst',\n",
              "       'symmetry_worst', 'fractal_dimension_worst'],\n",
              "      dtype='object')"
            ]
          },
          "metadata": {
            "tags": []
          },
          "execution_count": 67
        }
      ]
    },
    {
      "cell_type": "code",
      "metadata": {
        "id": "rSwqGTEmVIzW",
        "colab_type": "code",
        "colab": {}
      },
      "source": [
        "X=df[['radius_mean', 'texture_mean', 'perimeter_mean',\n",
        "       'area_mean', 'smoothness_mean', 'compactness_mean', 'concavity_mean',\n",
        "       'concave points_mean', 'symmetry_mean', 'fractal_dimension_mean',\n",
        "       'radius_se', 'texture_se', 'perimeter_se', 'area_se', 'smoothness_se',\n",
        "       'compactness_se', 'concavity_se', 'concave points_se', 'symmetry_se',\n",
        "       'fractal_dimension_se', 'radius_worst', 'texture_worst',\n",
        "       'perimeter_worst', 'area_worst', 'smoothness_worst',\n",
        "       'compactness_worst', 'concavity_worst', 'concave points_worst',\n",
        "       'symmetry_worst', 'fractal_dimension_worst']]\n",
        "y=df['diagnosis']\n",
        "\n",
        "X_train,X_test,y_train,y_test=train_test_split(X,y,test_size=0.33, random_state=42)"
      ],
      "execution_count": 68,
      "outputs": []
    },
    {
      "cell_type": "code",
      "metadata": {
        "id": "R-xahO00VYJp",
        "colab_type": "code",
        "colab": {}
      },
      "source": [
        "import keras"
      ],
      "execution_count": 69,
      "outputs": []
    },
    {
      "cell_type": "code",
      "metadata": {
        "id": "Jtus1ZGqZowF",
        "colab_type": "code",
        "colab": {}
      },
      "source": [
        "from keras.models import Sequential\n",
        "from keras.layers import Dropout\n",
        "from keras.layers import ReLU,LeakyReLU,ELU\n",
        "from keras.layers import Dense"
      ],
      "execution_count": 70,
      "outputs": []
    },
    {
      "cell_type": "code",
      "metadata": {
        "id": "4JCpHk18aYgY",
        "colab_type": "code",
        "colab": {}
      },
      "source": [
        "from sklearn.preprocessing import StandardScaler\n",
        "sc = StandardScaler()\n",
        "X_train = sc.fit_transform(X_train)\n",
        "X_test = sc.transform(X_test)\n"
      ],
      "execution_count": 71,
      "outputs": []
    },
    {
      "cell_type": "code",
      "metadata": {
        "id": "ikwTLDMoalBI",
        "colab_type": "code",
        "colab": {
          "base_uri": "https://localhost:8080/",
          "height": 173
        },
        "outputId": "02f57d27-9ef1-4324-d84b-0b8a73779f86"
      },
      "source": [
        "\n",
        "classifier = Sequential()\n",
        "\n",
        "classifier.add(Dense(output_dim = 18, init = 'he_uniform',activation='relu',input_dim = 30))\n",
        "classifier.add(Dense(output_dim = 12, init = 'he_uniform',activation='relu'))\n",
        "classifier.add(Dense(output_dim = 6, init = 'he_uniform',activation='relu'))\n",
        "classifier.add(Dense(output_dim = 1, init = 'glorot_uniform', activation = 'sigmoid'))"
      ],
      "execution_count": 72,
      "outputs": [
        {
          "output_type": "stream",
          "text": [
            "/usr/local/lib/python3.6/dist-packages/ipykernel_launcher.py:4: UserWarning: Update your `Dense` call to the Keras 2 API: `Dense(activation=\"relu\", input_dim=30, units=18, kernel_initializer=\"he_uniform\")`\n",
            "  after removing the cwd from sys.path.\n",
            "/usr/local/lib/python3.6/dist-packages/ipykernel_launcher.py:5: UserWarning: Update your `Dense` call to the Keras 2 API: `Dense(activation=\"relu\", units=12, kernel_initializer=\"he_uniform\")`\n",
            "  \"\"\"\n",
            "/usr/local/lib/python3.6/dist-packages/ipykernel_launcher.py:6: UserWarning: Update your `Dense` call to the Keras 2 API: `Dense(activation=\"relu\", units=6, kernel_initializer=\"he_uniform\")`\n",
            "  \n",
            "/usr/local/lib/python3.6/dist-packages/ipykernel_launcher.py:7: UserWarning: Update your `Dense` call to the Keras 2 API: `Dense(activation=\"sigmoid\", units=1, kernel_initializer=\"glorot_uniform\")`\n",
            "  import sys\n"
          ],
          "name": "stderr"
        }
      ]
    },
    {
      "cell_type": "code",
      "metadata": {
        "id": "Klf_IxJrbCT9",
        "colab_type": "code",
        "colab": {}
      },
      "source": [
        "classifier.compile(optimizer = 'Adamax', loss = 'binary_crossentropy', metrics = ['accuracy'])"
      ],
      "execution_count": 73,
      "outputs": []
    },
    {
      "cell_type": "code",
      "metadata": {
        "id": "whjlSTiJbNLr",
        "colab_type": "code",
        "colab": {
          "base_uri": "https://localhost:8080/",
          "height": 1000
        },
        "outputId": "210bd775-9689-47e3-8fa1-d12bdff18e25"
      },
      "source": [
        "model_history=classifier.fit(X_train, y_train,validation_split=0.33, batch_size = 10, nb_epoch = 100)"
      ],
      "execution_count": 74,
      "outputs": [
        {
          "output_type": "stream",
          "text": [
            "/usr/local/lib/python3.6/dist-packages/ipykernel_launcher.py:1: UserWarning: The `nb_epoch` argument in `fit` has been renamed `epochs`.\n",
            "  \"\"\"Entry point for launching an IPython kernel.\n"
          ],
          "name": "stderr"
        },
        {
          "output_type": "stream",
          "text": [
            "Train on 255 samples, validate on 126 samples\n",
            "Epoch 1/100\n",
            "255/255 [==============================] - 0s 976us/step - loss: 0.9359 - accuracy: 0.6353 - val_loss: 0.7649 - val_accuracy: 0.5952\n",
            "Epoch 2/100\n",
            "255/255 [==============================] - 0s 449us/step - loss: 0.6083 - accuracy: 0.6549 - val_loss: 0.5747 - val_accuracy: 0.6270\n",
            "Epoch 3/100\n",
            "255/255 [==============================] - 0s 441us/step - loss: 0.4842 - accuracy: 0.6863 - val_loss: 0.4967 - val_accuracy: 0.6429\n",
            "Epoch 4/100\n",
            "255/255 [==============================] - 0s 499us/step - loss: 0.4304 - accuracy: 0.7137 - val_loss: 0.4521 - val_accuracy: 0.6667\n",
            "Epoch 5/100\n",
            "255/255 [==============================] - 0s 438us/step - loss: 0.3944 - accuracy: 0.7490 - val_loss: 0.4114 - val_accuracy: 0.7460\n",
            "Epoch 6/100\n",
            "255/255 [==============================] - 0s 460us/step - loss: 0.3603 - accuracy: 0.8039 - val_loss: 0.3644 - val_accuracy: 0.8016\n",
            "Epoch 7/100\n",
            "255/255 [==============================] - 0s 434us/step - loss: 0.3245 - accuracy: 0.8627 - val_loss: 0.3251 - val_accuracy: 0.8413\n",
            "Epoch 8/100\n",
            "255/255 [==============================] - 0s 449us/step - loss: 0.2886 - accuracy: 0.8863 - val_loss: 0.2961 - val_accuracy: 0.8651\n",
            "Epoch 9/100\n",
            "255/255 [==============================] - 0s 451us/step - loss: 0.2579 - accuracy: 0.9137 - val_loss: 0.2717 - val_accuracy: 0.8730\n",
            "Epoch 10/100\n",
            "255/255 [==============================] - 0s 494us/step - loss: 0.2326 - accuracy: 0.9294 - val_loss: 0.2538 - val_accuracy: 0.8889\n",
            "Epoch 11/100\n",
            "255/255 [==============================] - 0s 446us/step - loss: 0.2131 - accuracy: 0.9412 - val_loss: 0.2389 - val_accuracy: 0.9048\n",
            "Epoch 12/100\n",
            "255/255 [==============================] - 0s 428us/step - loss: 0.1964 - accuracy: 0.9529 - val_loss: 0.2241 - val_accuracy: 0.9206\n",
            "Epoch 13/100\n",
            "255/255 [==============================] - 0s 513us/step - loss: 0.1794 - accuracy: 0.9647 - val_loss: 0.2090 - val_accuracy: 0.9365\n",
            "Epoch 14/100\n",
            "255/255 [==============================] - 0s 459us/step - loss: 0.1642 - accuracy: 0.9608 - val_loss: 0.1966 - val_accuracy: 0.9444\n",
            "Epoch 15/100\n",
            "255/255 [==============================] - 0s 446us/step - loss: 0.1510 - accuracy: 0.9608 - val_loss: 0.1851 - val_accuracy: 0.9444\n",
            "Epoch 16/100\n",
            "255/255 [==============================] - 0s 449us/step - loss: 0.1396 - accuracy: 0.9686 - val_loss: 0.1748 - val_accuracy: 0.9444\n",
            "Epoch 17/100\n",
            "255/255 [==============================] - 0s 476us/step - loss: 0.1297 - accuracy: 0.9686 - val_loss: 0.1668 - val_accuracy: 0.9444\n",
            "Epoch 18/100\n",
            "255/255 [==============================] - 0s 446us/step - loss: 0.1206 - accuracy: 0.9686 - val_loss: 0.1599 - val_accuracy: 0.9524\n",
            "Epoch 19/100\n",
            "255/255 [==============================] - 0s 446us/step - loss: 0.1115 - accuracy: 0.9686 - val_loss: 0.1539 - val_accuracy: 0.9524\n",
            "Epoch 20/100\n",
            "255/255 [==============================] - 0s 441us/step - loss: 0.1050 - accuracy: 0.9725 - val_loss: 0.1495 - val_accuracy: 0.9524\n",
            "Epoch 21/100\n",
            "255/255 [==============================] - 0s 490us/step - loss: 0.0987 - accuracy: 0.9804 - val_loss: 0.1445 - val_accuracy: 0.9524\n",
            "Epoch 22/100\n",
            "255/255 [==============================] - 0s 437us/step - loss: 0.0936 - accuracy: 0.9843 - val_loss: 0.1382 - val_accuracy: 0.9524\n",
            "Epoch 23/100\n",
            "255/255 [==============================] - 0s 434us/step - loss: 0.0888 - accuracy: 0.9843 - val_loss: 0.1367 - val_accuracy: 0.9524\n",
            "Epoch 24/100\n",
            "255/255 [==============================] - 0s 437us/step - loss: 0.0837 - accuracy: 0.9843 - val_loss: 0.1325 - val_accuracy: 0.9524\n",
            "Epoch 25/100\n",
            "255/255 [==============================] - 0s 436us/step - loss: 0.0804 - accuracy: 0.9843 - val_loss: 0.1298 - val_accuracy: 0.9524\n",
            "Epoch 26/100\n",
            "255/255 [==============================] - 0s 455us/step - loss: 0.0758 - accuracy: 0.9843 - val_loss: 0.1265 - val_accuracy: 0.9524\n",
            "Epoch 27/100\n",
            "255/255 [==============================] - 0s 452us/step - loss: 0.0717 - accuracy: 0.9843 - val_loss: 0.1238 - val_accuracy: 0.9524\n",
            "Epoch 28/100\n",
            "255/255 [==============================] - 0s 528us/step - loss: 0.0683 - accuracy: 0.9843 - val_loss: 0.1217 - val_accuracy: 0.9524\n",
            "Epoch 29/100\n",
            "255/255 [==============================] - 0s 615us/step - loss: 0.0646 - accuracy: 0.9843 - val_loss: 0.1183 - val_accuracy: 0.9524\n",
            "Epoch 30/100\n",
            "255/255 [==============================] - 0s 488us/step - loss: 0.0617 - accuracy: 0.9843 - val_loss: 0.1139 - val_accuracy: 0.9603\n",
            "Epoch 31/100\n",
            "255/255 [==============================] - 0s 452us/step - loss: 0.0588 - accuracy: 0.9843 - val_loss: 0.1101 - val_accuracy: 0.9603\n",
            "Epoch 32/100\n",
            "255/255 [==============================] - 0s 438us/step - loss: 0.0565 - accuracy: 0.9843 - val_loss: 0.1102 - val_accuracy: 0.9683\n",
            "Epoch 33/100\n",
            "255/255 [==============================] - 0s 439us/step - loss: 0.0532 - accuracy: 0.9843 - val_loss: 0.1048 - val_accuracy: 0.9683\n",
            "Epoch 34/100\n",
            "255/255 [==============================] - 0s 469us/step - loss: 0.0510 - accuracy: 0.9882 - val_loss: 0.1027 - val_accuracy: 0.9683\n",
            "Epoch 35/100\n",
            "255/255 [==============================] - 0s 462us/step - loss: 0.0488 - accuracy: 0.9961 - val_loss: 0.1017 - val_accuracy: 0.9683\n",
            "Epoch 36/100\n",
            "255/255 [==============================] - 0s 436us/step - loss: 0.0468 - accuracy: 0.9961 - val_loss: 0.1007 - val_accuracy: 0.9683\n",
            "Epoch 37/100\n",
            "255/255 [==============================] - 0s 509us/step - loss: 0.0450 - accuracy: 0.9961 - val_loss: 0.0992 - val_accuracy: 0.9683\n",
            "Epoch 38/100\n",
            "255/255 [==============================] - 0s 562us/step - loss: 0.0433 - accuracy: 0.9961 - val_loss: 0.0979 - val_accuracy: 0.9683\n",
            "Epoch 39/100\n",
            "255/255 [==============================] - 0s 477us/step - loss: 0.0418 - accuracy: 0.9961 - val_loss: 0.0975 - val_accuracy: 0.9683\n",
            "Epoch 40/100\n",
            "255/255 [==============================] - 0s 456us/step - loss: 0.0403 - accuracy: 0.9961 - val_loss: 0.0964 - val_accuracy: 0.9683\n",
            "Epoch 41/100\n",
            "255/255 [==============================] - 0s 447us/step - loss: 0.0388 - accuracy: 0.9961 - val_loss: 0.0960 - val_accuracy: 0.9683\n",
            "Epoch 42/100\n",
            "255/255 [==============================] - 0s 479us/step - loss: 0.0379 - accuracy: 0.9961 - val_loss: 0.0954 - val_accuracy: 0.9683\n",
            "Epoch 43/100\n",
            "255/255 [==============================] - 0s 478us/step - loss: 0.0362 - accuracy: 0.9961 - val_loss: 0.0941 - val_accuracy: 0.9683\n",
            "Epoch 44/100\n",
            "255/255 [==============================] - 0s 617us/step - loss: 0.0350 - accuracy: 0.9961 - val_loss: 0.0940 - val_accuracy: 0.9683\n",
            "Epoch 45/100\n",
            "255/255 [==============================] - 0s 442us/step - loss: 0.0339 - accuracy: 0.9961 - val_loss: 0.0931 - val_accuracy: 0.9683\n",
            "Epoch 46/100\n",
            "255/255 [==============================] - 0s 471us/step - loss: 0.0326 - accuracy: 0.9961 - val_loss: 0.0923 - val_accuracy: 0.9683\n",
            "Epoch 47/100\n",
            "255/255 [==============================] - 0s 450us/step - loss: 0.0319 - accuracy: 0.9961 - val_loss: 0.0910 - val_accuracy: 0.9683\n",
            "Epoch 48/100\n",
            "255/255 [==============================] - 0s 447us/step - loss: 0.0311 - accuracy: 0.9961 - val_loss: 0.0907 - val_accuracy: 0.9683\n",
            "Epoch 49/100\n",
            "255/255 [==============================] - 0s 488us/step - loss: 0.0301 - accuracy: 0.9961 - val_loss: 0.0907 - val_accuracy: 0.9683\n",
            "Epoch 50/100\n",
            "255/255 [==============================] - 0s 495us/step - loss: 0.0290 - accuracy: 0.9961 - val_loss: 0.0911 - val_accuracy: 0.9683\n",
            "Epoch 51/100\n",
            "255/255 [==============================] - 0s 454us/step - loss: 0.0283 - accuracy: 0.9961 - val_loss: 0.0889 - val_accuracy: 0.9683\n",
            "Epoch 52/100\n",
            "255/255 [==============================] - 0s 449us/step - loss: 0.0275 - accuracy: 0.9961 - val_loss: 0.0904 - val_accuracy: 0.9683\n",
            "Epoch 53/100\n",
            "255/255 [==============================] - 0s 451us/step - loss: 0.0268 - accuracy: 0.9961 - val_loss: 0.0916 - val_accuracy: 0.9683\n",
            "Epoch 54/100\n",
            "255/255 [==============================] - 0s 536us/step - loss: 0.0260 - accuracy: 0.9961 - val_loss: 0.0901 - val_accuracy: 0.9683\n",
            "Epoch 55/100\n",
            "255/255 [==============================] - 0s 501us/step - loss: 0.0254 - accuracy: 0.9961 - val_loss: 0.0879 - val_accuracy: 0.9683\n",
            "Epoch 56/100\n",
            "255/255 [==============================] - 0s 504us/step - loss: 0.0245 - accuracy: 0.9961 - val_loss: 0.0888 - val_accuracy: 0.9683\n",
            "Epoch 57/100\n",
            "255/255 [==============================] - 0s 487us/step - loss: 0.0237 - accuracy: 0.9961 - val_loss: 0.0875 - val_accuracy: 0.9683\n",
            "Epoch 58/100\n",
            "255/255 [==============================] - 0s 515us/step - loss: 0.0232 - accuracy: 0.9961 - val_loss: 0.0877 - val_accuracy: 0.9683\n",
            "Epoch 59/100\n",
            "255/255 [==============================] - 0s 497us/step - loss: 0.0225 - accuracy: 0.9961 - val_loss: 0.0871 - val_accuracy: 0.9683\n",
            "Epoch 60/100\n",
            "255/255 [==============================] - 0s 551us/step - loss: 0.0218 - accuracy: 0.9961 - val_loss: 0.0865 - val_accuracy: 0.9683\n",
            "Epoch 61/100\n",
            "255/255 [==============================] - 0s 619us/step - loss: 0.0214 - accuracy: 0.9961 - val_loss: 0.0873 - val_accuracy: 0.9683\n",
            "Epoch 62/100\n",
            "255/255 [==============================] - 0s 500us/step - loss: 0.0207 - accuracy: 0.9961 - val_loss: 0.0875 - val_accuracy: 0.9683\n",
            "Epoch 63/100\n",
            "255/255 [==============================] - 0s 514us/step - loss: 0.0201 - accuracy: 0.9961 - val_loss: 0.0868 - val_accuracy: 0.9683\n",
            "Epoch 64/100\n",
            "255/255 [==============================] - 0s 471us/step - loss: 0.0197 - accuracy: 0.9961 - val_loss: 0.0862 - val_accuracy: 0.9683\n",
            "Epoch 65/100\n",
            "255/255 [==============================] - 0s 509us/step - loss: 0.0191 - accuracy: 0.9961 - val_loss: 0.0863 - val_accuracy: 0.9683\n",
            "Epoch 66/100\n",
            "255/255 [==============================] - 0s 523us/step - loss: 0.0187 - accuracy: 0.9961 - val_loss: 0.0862 - val_accuracy: 0.9683\n",
            "Epoch 67/100\n",
            "255/255 [==============================] - 0s 493us/step - loss: 0.0183 - accuracy: 0.9961 - val_loss: 0.0862 - val_accuracy: 0.9683\n",
            "Epoch 68/100\n",
            "255/255 [==============================] - 0s 487us/step - loss: 0.0173 - accuracy: 0.9961 - val_loss: 0.0862 - val_accuracy: 0.9683\n",
            "Epoch 69/100\n",
            "255/255 [==============================] - 0s 575us/step - loss: 0.0163 - accuracy: 0.9961 - val_loss: 0.0852 - val_accuracy: 0.9683\n",
            "Epoch 70/100\n",
            "255/255 [==============================] - 0s 477us/step - loss: 0.0155 - accuracy: 0.9961 - val_loss: 0.0858 - val_accuracy: 0.9683\n",
            "Epoch 71/100\n",
            "255/255 [==============================] - 0s 485us/step - loss: 0.0148 - accuracy: 0.9961 - val_loss: 0.0868 - val_accuracy: 0.9683\n",
            "Epoch 72/100\n",
            "255/255 [==============================] - 0s 484us/step - loss: 0.0139 - accuracy: 0.9961 - val_loss: 0.0824 - val_accuracy: 0.9683\n",
            "Epoch 73/100\n",
            "255/255 [==============================] - 0s 505us/step - loss: 0.0134 - accuracy: 0.9961 - val_loss: 0.0825 - val_accuracy: 0.9683\n",
            "Epoch 74/100\n",
            "255/255 [==============================] - 0s 522us/step - loss: 0.0126 - accuracy: 0.9961 - val_loss: 0.0838 - val_accuracy: 0.9683\n",
            "Epoch 75/100\n",
            "255/255 [==============================] - 0s 515us/step - loss: 0.0121 - accuracy: 0.9961 - val_loss: 0.0833 - val_accuracy: 0.9683\n",
            "Epoch 76/100\n",
            "255/255 [==============================] - 0s 496us/step - loss: 0.0115 - accuracy: 0.9961 - val_loss: 0.0840 - val_accuracy: 0.9683\n",
            "Epoch 77/100\n",
            "255/255 [==============================] - 0s 545us/step - loss: 0.0110 - accuracy: 0.9961 - val_loss: 0.0839 - val_accuracy: 0.9683\n",
            "Epoch 78/100\n",
            "255/255 [==============================] - 0s 489us/step - loss: 0.0107 - accuracy: 0.9961 - val_loss: 0.0838 - val_accuracy: 0.9683\n",
            "Epoch 79/100\n",
            "255/255 [==============================] - 0s 484us/step - loss: 0.0101 - accuracy: 0.9961 - val_loss: 0.0829 - val_accuracy: 0.9683\n",
            "Epoch 80/100\n",
            "255/255 [==============================] - 0s 516us/step - loss: 0.0096 - accuracy: 0.9961 - val_loss: 0.0835 - val_accuracy: 0.9683\n",
            "Epoch 81/100\n",
            "255/255 [==============================] - 0s 499us/step - loss: 0.0092 - accuracy: 0.9961 - val_loss: 0.0828 - val_accuracy: 0.9683\n",
            "Epoch 82/100\n",
            "255/255 [==============================] - 0s 507us/step - loss: 0.0088 - accuracy: 0.9961 - val_loss: 0.0855 - val_accuracy: 0.9683\n",
            "Epoch 83/100\n",
            "255/255 [==============================] - 0s 492us/step - loss: 0.0085 - accuracy: 0.9961 - val_loss: 0.0831 - val_accuracy: 0.9683\n",
            "Epoch 84/100\n",
            "255/255 [==============================] - 0s 524us/step - loss: 0.0080 - accuracy: 0.9961 - val_loss: 0.0841 - val_accuracy: 0.9683\n",
            "Epoch 85/100\n",
            "255/255 [==============================] - 0s 516us/step - loss: 0.0077 - accuracy: 0.9961 - val_loss: 0.0847 - val_accuracy: 0.9683\n",
            "Epoch 86/100\n",
            "255/255 [==============================] - 0s 514us/step - loss: 0.0074 - accuracy: 0.9961 - val_loss: 0.0841 - val_accuracy: 0.9683\n",
            "Epoch 87/100\n",
            "255/255 [==============================] - 0s 478us/step - loss: 0.0070 - accuracy: 1.0000 - val_loss: 0.0853 - val_accuracy: 0.9683\n",
            "Epoch 88/100\n",
            "255/255 [==============================] - 0s 498us/step - loss: 0.0068 - accuracy: 1.0000 - val_loss: 0.0852 - val_accuracy: 0.9683\n",
            "Epoch 89/100\n",
            "255/255 [==============================] - 0s 502us/step - loss: 0.0065 - accuracy: 1.0000 - val_loss: 0.0861 - val_accuracy: 0.9683\n",
            "Epoch 90/100\n",
            "255/255 [==============================] - 0s 488us/step - loss: 0.0063 - accuracy: 1.0000 - val_loss: 0.0838 - val_accuracy: 0.9683\n",
            "Epoch 91/100\n",
            "255/255 [==============================] - 0s 499us/step - loss: 0.0060 - accuracy: 1.0000 - val_loss: 0.0857 - val_accuracy: 0.9683\n",
            "Epoch 92/100\n",
            "255/255 [==============================] - 0s 523us/step - loss: 0.0058 - accuracy: 1.0000 - val_loss: 0.0878 - val_accuracy: 0.9762\n",
            "Epoch 93/100\n",
            "255/255 [==============================] - 0s 503us/step - loss: 0.0055 - accuracy: 1.0000 - val_loss: 0.0886 - val_accuracy: 0.9762\n",
            "Epoch 94/100\n",
            "255/255 [==============================] - 0s 492us/step - loss: 0.0053 - accuracy: 1.0000 - val_loss: 0.0885 - val_accuracy: 0.9762\n",
            "Epoch 95/100\n",
            "255/255 [==============================] - 0s 510us/step - loss: 0.0051 - accuracy: 1.0000 - val_loss: 0.0898 - val_accuracy: 0.9762\n",
            "Epoch 96/100\n",
            "255/255 [==============================] - 0s 452us/step - loss: 0.0049 - accuracy: 1.0000 - val_loss: 0.0902 - val_accuracy: 0.9762\n",
            "Epoch 97/100\n",
            "255/255 [==============================] - 0s 454us/step - loss: 0.0048 - accuracy: 1.0000 - val_loss: 0.0889 - val_accuracy: 0.9683\n",
            "Epoch 98/100\n",
            "255/255 [==============================] - 0s 459us/step - loss: 0.0047 - accuracy: 1.0000 - val_loss: 0.0915 - val_accuracy: 0.9762\n",
            "Epoch 99/100\n",
            "255/255 [==============================] - 0s 466us/step - loss: 0.0045 - accuracy: 1.0000 - val_loss: 0.0915 - val_accuracy: 0.9683\n",
            "Epoch 100/100\n",
            "255/255 [==============================] - 0s 484us/step - loss: 0.0043 - accuracy: 1.0000 - val_loss: 0.0929 - val_accuracy: 0.9762\n"
          ],
          "name": "stdout"
        }
      ]
    },
    {
      "cell_type": "code",
      "metadata": {
        "id": "nWFFZLsMbWd3",
        "colab_type": "code",
        "colab": {}
      },
      "source": [
        "y_pred = classifier.predict(X_test)\n",
        "y_pred = (y_pred > 0.5)"
      ],
      "execution_count": 75,
      "outputs": []
    },
    {
      "cell_type": "code",
      "metadata": {
        "id": "jnUX9Yowchws",
        "colab_type": "code",
        "colab": {}
      },
      "source": [
        "from sklearn.metrics import confusion_matrix\n",
        "cm = confusion_matrix(y_test, y_pred)"
      ],
      "execution_count": 76,
      "outputs": []
    },
    {
      "cell_type": "code",
      "metadata": {
        "id": "tkK3PufPcqAD",
        "colab_type": "code",
        "colab": {
          "base_uri": "https://localhost:8080/",
          "height": 51
        },
        "outputId": "556e9f54-520a-4195-8b2b-c6baff95b12c"
      },
      "source": [
        "print(cm)"
      ],
      "execution_count": 77,
      "outputs": [
        {
          "output_type": "stream",
          "text": [
            "[[ 65   2]\n",
            " [  5 116]]\n"
          ],
          "name": "stdout"
        }
      ]
    },
    {
      "cell_type": "code",
      "metadata": {
        "id": "RbWhX1aQcsf4",
        "colab_type": "code",
        "colab": {}
      },
      "source": [
        "from sklearn.metrics import accuracy_score\n",
        "score=accuracy_score(y_pred,y_test)"
      ],
      "execution_count": 78,
      "outputs": []
    },
    {
      "cell_type": "code",
      "metadata": {
        "id": "q_UcQsjKcySh",
        "colab_type": "code",
        "colab": {
          "base_uri": "https://localhost:8080/",
          "height": 34
        },
        "outputId": "eb2f3cc0-c7f3-4662-dfde-98053d39eadb"
      },
      "source": [
        "print(score)"
      ],
      "execution_count": 79,
      "outputs": [
        {
          "output_type": "stream",
          "text": [
            "0.9627659574468085\n"
          ],
          "name": "stdout"
        }
      ]
    },
    {
      "cell_type": "code",
      "metadata": {
        "id": "aEVFkfNsc0IZ",
        "colab_type": "code",
        "colab": {}
      },
      "source": [
        ""
      ],
      "execution_count": 79,
      "outputs": []
    }
  ]
}